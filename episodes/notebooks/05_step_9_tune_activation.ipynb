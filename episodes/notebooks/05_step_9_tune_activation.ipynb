{
 "cells": [
  {
   "cell_type": "code",
   "execution_count": null,
   "id": "647c7366",
   "metadata": {
    "lines_to_next_cell": 0
   },
   "outputs": [],
   "source": [
    "\"\"\"\n",
    "Image Classification with Convolutional Neural Networks\n",
    "\n",
    "Episode 05 Evaluate a Convolutional Neural Network and Make Predictions (Classifications)\n",
    "\n",
    "# Step 9. Tune hyperparameters\n",
    "\n",
    "## CHALLENGE Tune Activation Function using For Loop\n",
    "\n",
    "\"\"\""
   ]
  },
  {
   "cell_type": "code",
   "execution_count": null,
   "id": "84e6c2ed",
   "metadata": {},
   "outputs": [],
   "source": [
    "\n",
    "# load the required packages\n",
    "\n",
    "from tensorflow import keras # data and neural network\n",
    "from sklearn.model_selection import train_test_split # data splitting\n",
    "import matplotlib.pyplot as plt # plotting\n",
    "import time # track run time"
   ]
  },
  {
   "cell_type": "code",
   "execution_count": null,
   "id": "0085b355",
   "metadata": {
    "lines_to_next_cell": 1
   },
   "outputs": [],
   "source": [
    "\n",
    "# start timer\n",
    "start = time.time()"
   ]
  },
  {
   "cell_type": "code",
   "execution_count": null,
   "id": "7f6af76a",
   "metadata": {
    "lines_to_next_cell": 1
   },
   "outputs": [],
   "source": [
    "\n",
    "# function to prepare the training dataset\n",
    "\n",
    "def prepare_dataset(train_images, train_labels):\n",
    "    \n",
    "    # normalize the RGB values to be between 0 and 1\n",
    "    train_images = train_images / 255.0\n",
    "    \n",
    "    # one hot encode the training labels\n",
    "    train_labels = keras.utils.to_categorical(train_labels, len(class_names))\n",
    "    \n",
    "    # split the training data into training and validation set\n",
    "    train_images, val_images, train_labels, val_labels = train_test_split(\n",
    "    train_images, train_labels, test_size = 0.2, random_state=42)\n",
    "\n",
    "    return train_images, val_images, train_labels, val_labels"
   ]
  },
  {
   "cell_type": "code",
   "execution_count": null,
   "id": "ae47e67d",
   "metadata": {
    "lines_to_next_cell": 1
   },
   "outputs": [],
   "source": [
    "\n",
    "# load the data\n",
    "(train_images, train_labels), (test_images, test_labels) = keras.datasets.cifar10.load_data()\n",
    "\n",
    "# create a list of class names associated with each CIFAR-10 label\n",
    "class_names = ['airplane', 'automobile', 'bird', 'cat', 'deer', 'dog', 'frog', 'horse', 'ship', 'truck']\n",
    "\n",
    "# prepare the dataset for training\n",
    "train_images, val_images, train_labels, val_labels = prepare_dataset(train_images, train_labels)"
   ]
  },
  {
   "cell_type": "code",
   "execution_count": null,
   "id": "400e0297",
   "metadata": {
    "lines_to_next_cell": 1
   },
   "outputs": [],
   "source": [
    "\n",
    "### Step 9. Tune hyperparameters\n",
    "\n",
    "## CHALLENGE Tune Activation Function using For Loop\n",
    "\n",
    "# modify the intro model to sample activation functions\n",
    "def create_model_act(activation_function):\n",
    "\n",
    "    # CNN Part 1\n",
    "    # Input layer of 32x32 images with three channels (RGB)\n",
    "    inputs_act = keras.Input(shape=train_images.shape[1:])\n",
    "    \n",
    "    # CNN Part 2\n",
    "    # Convolutional layer with 16 filters, 3x3 kernel size, and ReLU activation\n",
    "    x_act = keras.layers.Conv2D(filters=16, kernel_size=(3,3), activation=activation_function)(inputs_act)\n",
    "    # Pooling layer with input window sized 2x2\n",
    "    x_act = keras.layers.MaxPooling2D((2, 2))(x_act)\n",
    "    # Second Convolutional layer with 32 filters, 3x3 kernel size, and ReLU activation\n",
    "    x_act = keras.layers.Conv2D(filters=32, kernel_size=(3,3), activation=activation_function)(x_act)\n",
    "    # Second Pooling layer with input window sized 2x2\n",
    "    x_act = keras.layers.MaxPooling2D(pool_size=(2,2))(x_act)\n",
    "    # Flatten layer to convert 2D feature maps into a 1D vector\n",
    "    x_act = keras.layers.Flatten()(x_act)\n",
    "    # Dense layer with 64 neurons and ReLU activation\n",
    "    x_act = keras.layers.Dense(units=64, activation=activation_function)(x_act)\n",
    "    \n",
    "    # CNN Part 3\n",
    "    # Output layer with 10 units (one for each class) and softmax activation\n",
    "    outputs_act = keras.layers.Dense(units=10, activation='softmax')(x_act)\n",
    "    \n",
    "    # create the model\n",
    "    model_act = keras.Model(inputs = inputs_act, \n",
    "                              outputs = outputs_act, \n",
    "                              name=\"cifar_model_activation\")\n",
    "    \n",
    "    # compile the model\n",
    "    model_act.compile(optimizer = keras.optimizers.Adam(),\n",
    "                      loss = keras.losses.CategoricalCrossentropy(),\n",
    "                      metrics = keras.metrics.CategoricalAccuracy())\n",
    "\n",
    "    return model_act"
   ]
  },
  {
   "cell_type": "code",
   "execution_count": null,
   "id": "9a955fd6",
   "metadata": {},
   "outputs": [],
   "source": [
    "\n",
    "# create a ist of activation functions to try\n",
    "activations = ['relu', 'sigmoid', 'tanh', 'selu', keras.layers.LeakyReLU()]\n",
    "\n",
    "# create a dictionary object to store the training history\n",
    "history_data = {} # dictionary\n",
    "\n",
    "# train the model with each activation function and store the history\n",
    "for activation in activations:\n",
    "    \n",
    "    # create the model\n",
    "    model = create_model_act(activation)\n",
    "    \n",
    "    # fit the model\n",
    "    history = model.fit(x = train_images, y = train_labels,\n",
    "                        batch_size = 32,\n",
    "                        epochs = 10, \n",
    "                        validation_data = (val_images, val_labels))\n",
    "    \n",
    "    # add training history to dictionary\n",
    "    history_data[str(activation)] = history\n",
    "\n",
    "# plot the validation accuracy for each activation function\n",
    "plt.figure(figsize=(12, 6))\n",
    "\n",
    "for activation, history in history_data.items():\n",
    "    plt.plot(history.history['val_categorical_accuracy'], label=activation)\n",
    "\n",
    "plt.title('Validation accuracy for different activation functions')\n",
    "plt.xlabel('Epochs')\n",
    "plt.ylabel('Validation Accuracy')\n",
    "plt.legend()\n",
    "plt.show()"
   ]
  },
  {
   "cell_type": "code",
   "execution_count": null,
   "id": "17de4408",
   "metadata": {},
   "outputs": [],
   "source": [
    "\n",
    "end = time.time()\n",
    "\n",
    "print()\n",
    "print()\n",
    "print(\"Time taken to run program was:\", end - start, \"seconds\")"
   ]
  }
 ],
 "metadata": {
  "jupytext": {
   "cell_metadata_filter": "-all",
   "encoding": "# -*- coding: utf-8 -*-",
   "main_language": "python",
   "notebook_metadata_filter": "-all"
  }
 },
 "nbformat": 4,
 "nbformat_minor": 5
}
