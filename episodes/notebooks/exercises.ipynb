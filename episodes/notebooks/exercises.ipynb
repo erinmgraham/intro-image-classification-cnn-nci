{
 "cells": [
  {
   "cell_type": "code",
   "execution_count": null,
   "id": "d4062c80",
   "metadata": {},
   "outputs": [],
   "source": [
    "\"\"\"\n",
    "\n",
    "The Image Classification with Convolutional Neural Networks workshop is designed to provide users with a useful program at the end of it, a separate exercises python script file will be used.\n",
    "\n",
    "This exercises template file is designed to provide the required initialisation code to complete the exercises within the workshop.\n",
    "\n",
    "@author: Jason Bell – September 2023\n",
    "\n",
    "\"\"\""
   ]
  },
  {
   "cell_type": "markdown",
   "id": "1fac4d4c",
   "metadata": {},
   "source": [
    "This section of the code helps to set things up ready for the various exercices"
   ]
  },
  {
   "cell_type": "code",
   "execution_count": null,
   "id": "acc8c0d3",
   "metadata": {},
   "outputs": [],
   "source": [
    "# load the cifar dataset included with the keras packages\n",
    "from tensorflow import keras\n",
    "from icwithcnn_functions import prepare_image_icwithcnn"
   ]
  },
  {
   "cell_type": "code",
   "execution_count": null,
   "id": "72a24eb1",
   "metadata": {},
   "outputs": [],
   "source": [
    "(train_images, train_labels), (val_images, val_labels) = keras.datasets.cifar10.load_data()"
   ]
  },
  {
   "cell_type": "code",
   "execution_count": null,
   "id": "14a58f53",
   "metadata": {},
   "outputs": [],
   "source": [
    "print('Train: Images=%s, Labels=%s' % (train_images.shape, train_labels.shape))\n",
    "print('Validate: Images=%s, Labels=%s' % (val_images.shape, val_labels.shape))"
   ]
  },
  {
   "cell_type": "code",
   "execution_count": null,
   "id": "dd1e0749",
   "metadata": {
    "lines_to_next_cell": 2
   },
   "outputs": [],
   "source": [
    "# CINAC-10 uses the same class names\n",
    "class_names = ['airplane', 'automobile', 'bird', 'cat', 'deer', 'dog', 'frog', 'horse', 'ship', 'truck']"
   ]
  },
  {
   "cell_type": "code",
   "execution_count": null,
   "id": "b1ba2291",
   "metadata": {},
   "outputs": [],
   "source": [
    "\"\"\"\n",
    "\n",
    "Introduction to Deep Learning Exercies\n",
    "\n",
    "\"\"\""
   ]
  },
  {
   "cell_type": "markdown",
   "id": "9dd175a2",
   "metadata": {},
   "source": [
    "## Challenge Load the CIFAR-10 dataset ###\n",
    "https://carpentries-incubator.github.io/intro-image-classification-cnn/01-introduction.html#challenge-load-the-cifar-10-dataset"
   ]
  },
  {
   "cell_type": "markdown",
   "id": "8b7c469d",
   "metadata": {
    "lines_to_next_cell": 2
   },
   "source": [
    "Uncomment the 2 lines of code below\n",
    "print('Train: Images=%s, Labels=%s' % (train_images.shape, train_labels.shape))\n",
    "print('Validate: Images=%s, Labels=%s' % (val_images.shape, val_labels.shape))"
   ]
  },
  {
   "cell_type": "code",
   "execution_count": null,
   "id": "da085c17",
   "metadata": {},
   "outputs": [],
   "source": [
    "\"\"\"\n",
    "\n",
    "Introduction to Image Data\n",
    "\n",
    "\"\"\""
   ]
  },
  {
   "cell_type": "markdown",
   "id": "6d864fa6",
   "metadata": {},
   "source": [
    "## TRAINING AND TEST SETS ###\n",
    "https://carpentries-incubator.github.io/intro-image-classification-cnn/02-image-data.html#challenge1"
   ]
  },
  {
   "cell_type": "markdown",
   "id": "430facd3",
   "metadata": {
    "lines_to_next_cell": 2
   },
   "source": [
    "Still TODO"
   ]
  },
  {
   "cell_type": "code",
   "execution_count": null,
   "id": "1582e5f5",
   "metadata": {},
   "outputs": [],
   "source": [
    "\"\"\"\n",
    "\n",
    "Build a Convolutional Neural Network\n",
    "\n",
    "\"\"\""
   ]
  },
  {
   "cell_type": "markdown",
   "id": "fb194e7f",
   "metadata": {},
   "source": [
    "Load the saved the model from the intro\n",
    "The line of code below can be run and uncommented after the intro model\n",
    "has been saved from the \"Introduction to Deep Learning\" episode."
   ]
  },
  {
   "cell_type": "code",
   "execution_count": null,
   "id": "871fa8e1",
   "metadata": {},
   "outputs": [],
   "source": [
    "model_intro = keras.models.load_model('fit_outputs/01_intro_model.h5')"
   ]
  },
  {
   "cell_type": "markdown",
   "id": "c6c8a0e9",
   "metadata": {},
   "source": [
    "## Number of parameters ###\n",
    "https://carpentries-incubator.github.io/intro-image-classification-cnn/03-build-cnn.html#number-of-parameters"
   ]
  },
  {
   "cell_type": "markdown",
   "id": "d259e451",
   "metadata": {},
   "source": [
    "Suppose we create a single Dense (fully connected) layer with 100 hidden \n",
    "units that connect to the input pixels, how many parameters does this \n",
    "layer have?"
   ]
  },
  {
   "cell_type": "markdown",
   "id": "2d3df12d",
   "metadata": {},
   "source": [
    "Uncomment the 6 lines of code below and add your solution\n",
    "width, height = \n",
    "n_hidden_neurons = \n",
    "n_bias = \n",
    "n_input_items = \n",
    "n_parameters = \n",
    "print(n_parameters)"
   ]
  },
  {
   "cell_type": "markdown",
   "id": "f54e5849",
   "metadata": {},
   "source": [
    "We can also check this by building the layer in Keras:"
   ]
  },
  {
   "cell_type": "markdown",
   "id": "97a1a81f",
   "metadata": {},
   "source": [
    "Uncomment the 4 lines of code below and add your solution\n",
    "inputs_ex = \n",
    "outputs_ex = \n",
    "model_ex = \n",
    "model_ex.summary()   "
   ]
  },
  {
   "cell_type": "markdown",
   "id": "dccecadd",
   "metadata": {
    "lines_to_next_cell": 2
   },
   "source": [
    "## Convolutional Neural Network ###\n",
    "https://carpentries-incubator.github.io/intro-image-classification-cnn/03-build-cnn.html#challenge-network-depth"
   ]
  },
  {
   "cell_type": "markdown",
   "id": "7328305d",
   "metadata": {},
   "source": [
    "## Challenge Network depth ###\n",
    "https://carpentries-incubator.github.io/intro-image-classification-cnn/04-fit-cnn.html#challenge-the-training-curve"
   ]
  },
  {
   "cell_type": "code",
   "execution_count": null,
   "id": "643e37cb",
   "metadata": {
    "lines_to_next_cell": 2
   },
   "outputs": [],
   "source": [
    "inputs_cnd = keras.Input(shape=train_images.shape[1:])\n",
    "x_cnd = keras.layers.Conv2D(50, (3, 3), activation='relu')(inputs_cnd)\n",
    "x_cnd = keras.layers.MaxPooling2D((2, 2))(x_cnd)\n",
    "x_cnd = keras.layers.Conv2D(50, (3, 3), activation='relu')(x_cnd)\n",
    "x_cnd = keras.layers.MaxPooling2D((2, 2))(x_cnd)\n",
    "# Add your extra layer here\n",
    "x_cnd = keras.layers.Flatten()(x_cnd)\n",
    "x_cnd = keras.layers.Dense(50, activation='relu')(x_cnd)\n",
    "outputs_cnd = keras.layers.Dense(10)(x_cnd)"
   ]
  },
  {
   "cell_type": "code",
   "execution_count": null,
   "id": "fbe42d08",
   "metadata": {},
   "outputs": [],
   "source": [
    "\"\"\"\n",
    "Compile and Train a Convolutional Neural Network\n",
    "\n",
    "\"\"\""
   ]
  },
  {
   "cell_type": "markdown",
   "id": "26dd0d57",
   "metadata": {},
   "source": [
    "## Challenge The Training Curve ###\n",
    "https://carpentries-incubator.github.io/intro-image-classification-cnn/04-fit-cnn.html#challenge-the-training-curve"
   ]
  },
  {
   "cell_type": "code",
   "execution_count": null,
   "id": "f66fb34a",
   "metadata": {},
   "outputs": [],
   "source": []
  },
  {
   "cell_type": "markdown",
   "id": "795c8f21",
   "metadata": {
    "lines_to_next_cell": 2
   },
   "source": [
    "## Vary dropout rate ###\n",
    "https://carpentries-incubator.github.io/intro-image-classification-cnn/04-fit-cnn.html#vary-dropout-rate"
   ]
  },
  {
   "cell_type": "code",
   "execution_count": null,
   "id": "e33c2cf9",
   "metadata": {},
   "outputs": [],
   "source": [
    "\"\"\"\n",
    "Compile and Train a Convolutional Neural Network\n",
    "\n",
    "\"\"\""
   ]
  },
  {
   "cell_type": "markdown",
   "id": "edc8e121",
   "metadata": {
    "lines_to_next_cell": 2
   },
   "source": [
    "## Challenge 1 ###\n",
    "https://carpentries-incubator.github.io/intro-image-classification-cnn/05-evaluate-predict-cnn.html#challenge1"
   ]
  },
  {
   "cell_type": "markdown",
   "id": "1de9793f",
   "metadata": {
    "lines_to_next_cell": 2
   },
   "source": [
    "## Challenge 1 ###\n",
    "https://carpentries-incubator.github.io/intro-image-classification-cnn/05-evaluate-predict-cnn.html#challenge2"
   ]
  },
  {
   "cell_type": "markdown",
   "id": "0d99614b",
   "metadata": {
    "lines_to_next_cell": 2
   },
   "source": [
    "## Challenge Confusion Matrix ###\n",
    "https://carpentries-incubator.github.io/intro-image-classification-cnn/05-evaluate-predict-cnn.html#challenge-confusion-matrix"
   ]
  },
  {
   "cell_type": "markdown",
   "id": "83f97594",
   "metadata": {},
   "source": [
    "## Challenge ###\n",
    "https://carpentries-incubator.github.io/intro-image-classification-cnn/05-evaluate-predict-cnn.html#challenge4"
   ]
  },
  {
   "cell_type": "markdown",
   "id": "c8a46cfe",
   "metadata": {
    "lines_to_next_cell": 2
   },
   "source": [
    "specify a new image and prepare it to match CIFAR-10 dataset"
   ]
  },
  {
   "cell_type": "code",
   "execution_count": null,
   "id": "237ac86d",
   "metadata": {},
   "outputs": [],
   "source": [
    "new_img_path = \"../data/Jabiru_TGS.JPG\" # path to image\n",
    "new_img_prepped = prepare_image_icwithcnn(new_img_path)"
   ]
  },
  {
   "cell_type": "markdown",
   "id": "94e08e9d",
   "metadata": {
    "lines_to_next_cell": 2
   },
   "source": [
    "predict the classname (Section can be uncomment once has been model_intro in previous exercises)\n",
    "result_intro = model_intro.predict(new_img_prepped) # make prediction\n",
    "print(result_intro) # probability for each class\n",
    "print(class_names[result_intro.argmax()]) # class with highest probability"
   ]
  },
  {
   "cell_type": "markdown",
   "id": "4b9aa20c",
   "metadata": {},
   "source": [
    "## Exercise: plot the training progress ###\n",
    "https://carpentries-incubator.github.io/intro-image-classification-cnn/05-evaluate-predict-cnn.html#exercise-plot-the-training-progress"
   ]
  },
  {
   "cell_type": "code",
   "execution_count": null,
   "id": "bbeaf541",
   "metadata": {},
   "outputs": [],
   "source": []
  },
  {
   "cell_type": "markdown",
   "id": "cf3990de",
   "metadata": {},
   "source": [
    "## Open question: What could be next steps to further improve the model? ###\n",
    "https://carpentries-incubator.github.io/intro-image-classification-cnn/05-evaluate-predict-cnn.html#open-question-what-could-be-next-steps-to-further-improve-the-model"
   ]
  },
  {
   "cell_type": "code",
   "execution_count": null,
   "id": "4e8fd4f3",
   "metadata": {},
   "outputs": [],
   "source": []
  }
 ],
 "metadata": {
  "jupytext": {
   "cell_metadata_filter": "-all",
   "encoding": "# -*- coding: utf-8 -*-",
   "main_language": "python",
   "notebook_metadata_filter": "-all"
  }
 },
 "nbformat": 4,
 "nbformat_minor": 5
}
