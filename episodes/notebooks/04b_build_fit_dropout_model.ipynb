{
 "cells": [
  {
   "cell_type": "code",
   "execution_count": null,
   "id": "f072fa64",
   "metadata": {},
   "outputs": [],
   "source": [
    "\"\"\"\n",
    "Image Classification with Convolutional Neural Networks\n",
    "\n",
    "Episode 04 Compile and Train (Fit) a Convolutional Neural Network\n",
    "\n",
    "\"\"\""
   ]
  },
  {
   "cell_type": "code",
   "execution_count": null,
   "id": "111e4301",
   "metadata": {},
   "outputs": [],
   "source": [
    "\n",
    "# load the required packages\n",
    "\n",
    "from tensorflow import keras # data and neural network\n",
    "from sklearn.model_selection import train_test_split # data splitting\n",
    "import matplotlib.pyplot as plt # plotting\n",
    "import seaborn as sns # specialised plotting\n",
    "import pandas as pd # handles dataframes\n",
    "import time # track run time"
   ]
  },
  {
   "cell_type": "code",
   "execution_count": null,
   "id": "d80aa9b4",
   "metadata": {
    "lines_to_next_cell": 1
   },
   "outputs": [],
   "source": [
    "\n",
    "# start timer\n",
    "start = time.time()"
   ]
  },
  {
   "cell_type": "code",
   "execution_count": null,
   "id": "05e19f3d",
   "metadata": {
    "lines_to_next_cell": 1
   },
   "outputs": [],
   "source": [
    "\n",
    "# function to prepare the training dataset\n",
    "\n",
    "def prepare_dataset(train_images, train_labels):\n",
    "    \n",
    "    # normalize the RGB values to be between 0 and 1\n",
    "    train_images = train_images / 255.0\n",
    "    \n",
    "    # one hot encode the training labels\n",
    "    train_labels = keras.utils.to_categorical(train_labels, len(class_names))\n",
    "    \n",
    "    # split the training data into training and validation set\n",
    "    train_images, val_images, train_labels, val_labels = train_test_split(\n",
    "    train_images, train_labels, test_size = 0.2, random_state=42)\n",
    "\n",
    "    return train_images, val_images, train_labels, val_labels"
   ]
  },
  {
   "cell_type": "code",
   "execution_count": null,
   "id": "d5290d4f",
   "metadata": {},
   "outputs": [],
   "source": [
    "\n",
    "# load the data\n",
    "(train_images, train_labels), (test_images, test_labels) = keras.datasets.cifar10.load_data()\n",
    "\n",
    "# create a list of classnames\n",
    "class_names = ['airplane', 'automobile', 'bird', 'cat', 'deer', 'dog', 'frog', 'horse', 'ship', 'truck']\n",
    "\n",
    "# prepare the dataset for training\n",
    "train_images, val_images, train_labels, val_labels = prepare_dataset(train_images, train_labels)"
   ]
  },
  {
   "cell_type": "code",
   "execution_count": null,
   "id": "20377487",
   "metadata": {
    "lines_to_next_cell": 1
   },
   "outputs": [],
   "source": [
    "\n",
    "### Improve Model Generalization (avoid Overfitting)\n",
    "\n",
    "#### Dropout\n",
    "\n",
    "## CHALLENGE Create a function that defines a CNN with Dropout\n",
    "\n",
    "## SOLUTION\n",
    "\n",
    "\n",
    "# function to define the dropout model\n",
    "def create_model_dropout():\n",
    "    \n",
    "    # CNN Part 1\n",
    "    # Input layer of 32x32 images with three channels (RGB)\n",
    "    inputs_dropout = keras.Input(shape=train_images.shape[1:])\n",
    "    \n",
    "    # CNN Part 2\n",
    "    # Convolutional layer with 16 filters, 3x3 kernel size, and ReLU activation\n",
    "    x_dropout = keras.layers.Conv2D(filters=16, kernel_size=(3,3), activation='relu')(inputs_dropout)\n",
    "    # Pooling layer with input window sized 2x2\n",
    "    x_dropout = keras.layers.MaxPooling2D(pool_size=(2,2))(x_dropout)\n",
    "    # Second Convolutional layer with 32 filters, 3x3 kernel size, and ReLU activation\n",
    "    x_dropout = keras.layers.Conv2D(filters=32, kernel_size=(3,3), activation='relu')(x_dropout)\n",
    "    # Second Pooling layer with input window sized 2x2\n",
    "    x_dropout = keras.layers.MaxPooling2D(pool_size=(2,2))(x_dropout)\n",
    "    # Third Convolutional layer with 64 filters, 3x3 kernel size, and ReLU activation\n",
    "    x_dropout = keras.layers.Conv2D(64, (3, 3), activation='relu')(x_dropout) # This is     new!\n",
    "    # Dropout layer andomly drops 50 per cent of the input units\n",
    "    x_dropout = keras.layers.Dropout(rate=0.5)(x_dropout) # This is new!\n",
    "    # Flatten layer to convert 2D feature maps into a 1D vector\n",
    "    x_dropout = keras.layers.Flatten()(x_dropout)\n",
    "    \n",
    "    # CNN Part 3\n",
    "    # Output layer with 10 units (one for each class) and softmax activation\n",
    "    outputs_dropout = keras.layers.Dense(units=10, activation='softmax')(x_dropout)\n",
    "    \n",
    "    # create the model\n",
    "    model_dropout = keras.Model(inputs = inputs_dropout, \n",
    "                              outputs = outputs_dropout,\n",
    "                              name = \"cifar_model_dropout\")\n",
    "    \n",
    "    return model_dropout"
   ]
  },
  {
   "cell_type": "code",
   "execution_count": null,
   "id": "604c763d",
   "metadata": {},
   "outputs": [],
   "source": [
    "\n",
    "## CHALLENGE Does adding Dropout improve our model?\n",
    "\n",
    "## SOLUTION\n",
    "\n",
    "# create the dropout model\n",
    "model_dropout = create_model_dropout()\n",
    "\n",
    "# compile the model\n",
    "model_dropout.compile(optimizer = keras.optimizers.Adam(),\n",
    "                      loss = keras.losses.CategoricalCrossentropy(),\n",
    "                      metrics = keras.metrics.CategoricalAccuracy())\n",
    "\n",
    "# fit the model\n",
    "history_dropout = model_dropout.fit(x = train_images, y = train_labels,\n",
    "                                  batch_size = 32,\n",
    "                                  epochs = 10,\n",
    "                                  validation_data = (val_images, val_labels))\n",
    "\n",
    "\n",
    "# save dropout model\n",
    "model_dropout.save('fit_outputs/model_dropout.keras')\n",
    "\n",
    "# inspect the training results\n",
    "\n",
    "# convert the history to a dataframe for plotting \n",
    "history_dropout_df = pd.DataFrame.from_dict(history_dropout.history)\n",
    "\n",
    "# plot the loss and accuracy from the training process\n",
    "fig, axes = plt.subplots(1, 2)\n",
    "fig.suptitle('cifar_model_dropout')\n",
    "sns.lineplot(ax=axes[0], data=history_dropout_df[['loss', 'val_loss']])\n",
    "sns.lineplot(ax=axes[1], data=history_dropout_df[['categorical_accuracy', 'val_categorical_accuracy']])\n",
    "\n",
    "########################################################\n",
    "\n",
    "end = time.time()\n",
    "\n",
    "print()\n",
    "print()\n",
    "print(\"Time taken to run program was:\", end - start, \"seconds\")"
   ]
  }
 ],
 "metadata": {
  "jupytext": {
   "cell_metadata_filter": "-all",
   "encoding": "# -*- coding: utf-8 -*-",
   "main_language": "python",
   "notebook_metadata_filter": "-all"
  }
 },
 "nbformat": 4,
 "nbformat_minor": 5
}
