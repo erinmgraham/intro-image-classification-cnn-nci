{
 "cells": [
  {
   "cell_type": "code",
   "execution_count": null,
   "id": "e1d86792",
   "metadata": {
    "lines_to_next_cell": 0
   },
   "outputs": [],
   "source": [
    "\"\"\"\n",
    "Image Classification with Convolutional Neural Networks\n",
    "\n",
    "Episode 05 Evaluate a Convolutional Neural Network and Make Predictions (Classifications)\n",
    "\n",
    "# Step 9. Tune hyperparameters\n",
    "\n",
    "## CHALLENGE Tune Optimizer using Grid Search\n",
    "\n",
    "\"\"\""
   ]
  },
  {
   "cell_type": "code",
   "execution_count": null,
   "id": "6f9673b2",
   "metadata": {},
   "outputs": [],
   "source": [
    "\n",
    "# load the required packages\n",
    "\n",
    "from tensorflow import keras # data and neural network\n",
    "from sklearn.model_selection import train_test_split # data splitting\n",
    "import time # track run time\n",
    "from scikeras.wrappers import KerasClassifier # wrapper class for GridSearchCV\n",
    "from sklearn.model_selection import GridSearchCV # tune hyperparameters"
   ]
  },
  {
   "cell_type": "code",
   "execution_count": null,
   "id": "1132bb8b",
   "metadata": {
    "lines_to_next_cell": 1
   },
   "outputs": [],
   "source": [
    "\n",
    "# start timer\n",
    "start = time.time()"
   ]
  },
  {
   "cell_type": "code",
   "execution_count": null,
   "id": "4def7369",
   "metadata": {
    "lines_to_next_cell": 1
   },
   "outputs": [],
   "source": [
    "\n",
    "# function to prepare the training dataset\n",
    "\n",
    "def prepare_dataset(train_images, train_labels):\n",
    "    \n",
    "    # normalize the RGB values to be between 0 and 1\n",
    "    train_images = train_images / 255.0\n",
    "    \n",
    "    # one hot encode the training labels\n",
    "    train_labels = keras.utils.to_categorical(train_labels, len(class_names))\n",
    "    \n",
    "    # split the training data into training and validation set\n",
    "    train_images, val_images, train_labels, val_labels = train_test_split(\n",
    "    train_images, train_labels, test_size = 0.2, random_state=42)\n",
    "\n",
    "    return train_images, val_images, train_labels, val_labels"
   ]
  },
  {
   "cell_type": "code",
   "execution_count": null,
   "id": "8612b6d7",
   "metadata": {
    "lines_to_next_cell": 1
   },
   "outputs": [],
   "source": [
    "\n",
    "# function to define the introduction model and compile it\n",
    "\n",
    "def create_model_intro():\n",
    "    \n",
    "    # CNN Part 1\n",
    "    # Input layer of 32x32 images with three channels (RGB)\n",
    "    inputs_intro = keras.Input(shape=train_images.shape[1:])\n",
    "    \n",
    "    # CNN Part 2\n",
    "    # Convolutional layer with 16 filters, 3x3 kernel size, and ReLU activation\n",
    "    x_intro = keras.layers.Conv2D(filters=16, kernel_size=(3,3), activation='relu')(inputs_intro)\n",
    "    # Pooling layer with input window sized 2x2\n",
    "    x_intro = keras.layers.MaxPooling2D(pool_size=(2,2))(x_intro)\n",
    "    # Second Convolutional layer with 32 filters, 3x3 kernel size, and ReLU activation\n",
    "    x_intro = keras.layers.Conv2D(filters=32, kernel_size=(3,3), activation='relu')(x_intro)\n",
    "    # Second Pooling layer with input window sized 2x2\n",
    "    x_intro = keras.layers.MaxPooling2D(pool_size=(2,2))(x_intro)\n",
    "    # Flatten layer to convert 2D feature maps into a 1D vector\n",
    "    x_intro = keras.layers.Flatten()(x_intro)\n",
    "    # Dense layer with 64 neurons and ReLU activation\n",
    "    x_intro = keras.layers.Dense(units=64, activation='relu')(x_intro)\n",
    "    \n",
    "    # CNN Part 3\n",
    "    # Output layer with 10 units (one for each class) and softmax activation\n",
    "    outputs_intro = keras.layers.Dense(units=10, activation='softmax')(x_intro)\n",
    "    \n",
    "    # create the model\n",
    "    model_intro = keras.Model(inputs = inputs_intro, \n",
    "                              outputs = outputs_intro, \n",
    "                              name = \"cifar_model_intro\")\n",
    "    \n",
    "    # compile the model\n",
    "    model_intro.compile(optimizer = keras.optimizers.Adam(),\n",
    "                      loss = keras.losses.CategoricalCrossentropy(),\n",
    "                      metrics = keras.metrics.CategoricalAccuracy())\n",
    "    \n",
    "    return model_intro"
   ]
  },
  {
   "cell_type": "code",
   "execution_count": null,
   "id": "24fb9e8e",
   "metadata": {},
   "outputs": [],
   "source": [
    "\n",
    "# load the data\n",
    "(train_images, train_labels), (test_images, test_labels) = keras.datasets.cifar10.load_data()\n",
    "\n",
    "# create a list of classnames\n",
    "class_names = ['airplane', 'automobile', 'bird', 'cat', 'deer', 'dog', 'frog', 'horse', 'ship', 'truck']\n",
    "\n",
    "# prepare the dataset for training\n",
    "train_images, val_images, train_labels, val_labels = prepare_dataset(train_images, train_labels)"
   ]
  },
  {
   "cell_type": "code",
   "execution_count": null,
   "id": "eeb3b84e",
   "metadata": {},
   "outputs": [],
   "source": [
    "\n",
    "### Step 9. Tune hyperparameters\n",
    "\n",
    "## CHALLENGE Tune Optimizer using Grid Search\n",
    "\n",
    "# Instantiate wrapper class for GridSearchCV\n",
    "model = KerasClassifier(model=create_model_intro, epochs=2, batch_size=32, verbose=0)  # epochs, batch_size, verbose can be adjusted as required. Using low epochs to save computation time and demonstration purposes only\n",
    "\n",
    "# Define the grid search parameters\n",
    "optimizer = ['SGD', 'RMSprop', 'Adam']\n",
    "param_grid = dict(optimizer=optimizer)\n",
    "\n",
    "# search over specified parameter values for an estimator\n",
    "grid = GridSearchCV(estimator=model, param_grid=param_grid, n_jobs=1, cv=3)\n",
    "\n",
    "# run fit with all parameters\n",
    "grid_result = grid.fit(train_images, train_labels)\n",
    "\n",
    "# summarize results\n",
    "print(\"Best: %f using %s\" % (grid_result.best_score_, grid_result.best_params_))"
   ]
  },
  {
   "cell_type": "code",
   "execution_count": null,
   "id": "c9a11652",
   "metadata": {},
   "outputs": [],
   "source": [
    "\n",
    "end = time.time()\n",
    "\n",
    "print()\n",
    "print()\n",
    "print(\"Time taken to run program was:\", end - start, \"seconds\")"
   ]
  }
 ],
 "metadata": {
  "jupytext": {
   "cell_metadata_filter": "-all",
   "encoding": "# -*- coding: utf-8 -*-",
   "main_language": "python",
   "notebook_metadata_filter": "-all"
  }
 },
 "nbformat": 4,
 "nbformat_minor": 5
}
