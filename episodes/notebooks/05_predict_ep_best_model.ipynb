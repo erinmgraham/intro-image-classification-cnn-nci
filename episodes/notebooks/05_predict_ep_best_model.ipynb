{
 "cells": [
  {
   "cell_type": "code",
   "execution_count": null,
   "id": "4eb13983",
   "metadata": {
    "lines_to_next_cell": 0
   },
   "outputs": [],
   "source": [
    "\"\"\"\n",
    "Image Classification with Convolutional Neural Networks\n",
    "\n",
    "Episode 05 Evaluate a Convolutional Neural Network and Make Predictions (Classifications)\n",
    "\n",
    "\"\"\""
   ]
  },
  {
   "cell_type": "code",
   "execution_count": null,
   "id": "6b2182d0",
   "metadata": {},
   "outputs": [],
   "source": [
    "\n",
    "# load the required packages\n",
    "\n",
    "from tensorflow import keras # data and neural network\n",
    "import seaborn as sns # specialised plotting\n",
    "import pandas as pd # handles dataframes\n",
    "import numpy as np # for argmax\n",
    "from sklearn.metrics import accuracy_score\n",
    "from sklearn.metrics import confusion_matrix"
   ]
  },
  {
   "cell_type": "code",
   "execution_count": null,
   "id": "f1652896",
   "metadata": {},
   "outputs": [],
   "source": [
    "\n",
    "### Step 7. Perform a Prediction/Classification\n",
    "\n",
    "#### Prepare test dataset\n",
    "\n",
    "# load the CIFAR-10 dataset included with the keras library\n",
    "(train_images, train_labels), (test_images, test_labels) = keras.datasets.cifar10.load_data()\n",
    "\n",
    "# create a list of classnames \n",
    "class_names = ['airplane', 'automobile', 'bird', 'cat', 'deer', 'dog', 'frog', 'horse', 'ship', 'truck']\n",
    "\n",
    "# normalize the RGB values to be between 0 and 1\n",
    "test_images = test_images / 255.0\n",
    "\n",
    "# check test image dataset is loaded - images and labels\n",
    "print('Test: Images=%s, Labels=%s' % (test_images.shape, test_labels.shape))"
   ]
  },
  {
   "cell_type": "code",
   "execution_count": null,
   "id": "10cdbe14",
   "metadata": {},
   "outputs": [],
   "source": [
    "\n",
    "#### Step 7. Perform a Prediction/Classification\n",
    "\n",
    "# ## CHALLENGE Write the code to make class predictions on test data\n",
    "\n",
    "# # load preferred model\n",
    "# _____ = keras.models.load_model(_____)\n",
    "\n",
    "# # use preferred model to predict\n",
    "# _____ = _____.predict(x=_____)"
   ]
  },
  {
   "cell_type": "code",
   "execution_count": null,
   "id": "0a8880ae",
   "metadata": {},
   "outputs": [],
   "source": [
    "\n",
    "## SOLUTION\n",
    "\n",
    "# load preferred model\n",
    "model_best = keras.models.load_model('fit_outputs/model_dropout.keras')\n",
    "print('We are using', model_best.name)\n",
    "\n",
    "# use preferred model to predict probability of each class on new test set\n",
    "predictions = model_best.predict(x=test_images)\n",
    "\n",
    "print(predictions)"
   ]
  },
  {
   "cell_type": "code",
   "execution_count": null,
   "id": "dd503111",
   "metadata": {},
   "outputs": [],
   "source": [
    "\n",
    "# convert probability predictions to table using class names for column names\n",
    "prediction_df = pd.DataFrame(data=predictions, columns=class_names)\n",
    "\n",
    "# inspect \n",
    "print(prediction_df.head())\n",
    "\n",
    "# convert predictions to class labels\n",
    "predicted_labels = np.argmax(a=predictions, axis=1)\n",
    "print(predicted_labels)"
   ]
  },
  {
   "cell_type": "code",
   "execution_count": null,
   "id": "002a2362",
   "metadata": {},
   "outputs": [],
   "source": [
    "\n",
    "### Step 8. Measuring performance\n",
    "\n",
    "# evaluate the model on the test data set\n",
    "test_acc = accuracy_score(y_true=test_labels, y_pred=predicted_labels)\n",
    "print('Accuracy:', round(test_acc,2))"
   ]
  },
  {
   "cell_type": "code",
   "execution_count": null,
   "id": "15a7a1f7",
   "metadata": {},
   "outputs": [],
   "source": [
    "\n",
    "#### Confusion matrix\n",
    "\n",
    "# create a confusion matrix\n",
    "conf_matrix = confusion_matrix(y_true=test_labels, y_pred=predicted_labels)\n",
    "print(conf_matrix)"
   ]
  },
  {
   "cell_type": "code",
   "execution_count": null,
   "id": "f74daa78",
   "metadata": {},
   "outputs": [],
   "source": [
    "\n",
    "# Convert confustion matrix to a pandas dataframe\n",
    "confusion_df = pd.DataFrame(data=conf_matrix, index=class_names, columns=class_names)\n",
    "\n",
    "# Set the names of the x and y axis, this helps with the readability of the heatmap\n",
    "confusion_df.index.name = 'True Label'\n",
    "confusion_df.columns.name = 'Predicted Label'\n",
    "\n",
    "# heatmap visualization of the confusion matrix\n",
    "sns.heatmap(data=confusion_df, annot=True, fmt='3g')"
   ]
  }
 ],
 "metadata": {
  "jupytext": {
   "cell_metadata_filter": "-all",
   "encoding": "# -*- coding: utf-8 -*-",
   "main_language": "python",
   "notebook_metadata_filter": "-all"
  }
 },
 "nbformat": 4,
 "nbformat_minor": 5
}
