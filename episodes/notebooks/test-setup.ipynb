{
 "cells": [
  {
   "cell_type": "code",
   "execution_count": null,
   "id": "e1cf5d1c",
   "metadata": {},
   "outputs": [],
   "source": [
    "\"\"\"\n",
    "Created on Thu Sep 21 14:10:18 2023\n",
    "\n",
    "@author: Jason Bell\n",
    "\"\"\""
   ]
  },
  {
   "cell_type": "code",
   "execution_count": null,
   "id": "55df259c",
   "metadata": {},
   "outputs": [],
   "source": [
    "import sklearn\n",
    "print('sklearn version: ', sklearn.__version__)"
   ]
  },
  {
   "cell_type": "code",
   "execution_count": null,
   "id": "69f00ba2",
   "metadata": {},
   "outputs": [],
   "source": [
    "import seaborn\n",
    "print('seaborn version: ', seaborn.__version__)"
   ]
  },
  {
   "cell_type": "code",
   "execution_count": null,
   "id": "cd0e2bd1",
   "metadata": {},
   "outputs": [],
   "source": [
    "import pandas\n",
    "print('pandas version: ', pandas.__version__)"
   ]
  },
  {
   "cell_type": "code",
   "execution_count": null,
   "id": "5a4b3fcf",
   "metadata": {},
   "outputs": [],
   "source": [
    "import tensorflow\n",
    "print('Tensorflow version: ', tensorflow.__version__)"
   ]
  }
 ],
 "metadata": {
  "jupytext": {
   "cell_metadata_filter": "-all",
   "encoding": "# -*- coding: utf-8 -*-",
   "main_language": "python",
   "notebook_metadata_filter": "-all"
  }
 },
 "nbformat": 4,
 "nbformat_minor": 5
}
