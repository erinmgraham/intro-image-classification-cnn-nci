{
 "cells": [
  {
   "cell_type": "code",
   "execution_count": null,
   "id": "f2c623fa",
   "metadata": {},
   "outputs": [],
   "source": [
    "\"\"\"\n",
    "Image Classification with Convolutional Neural Networks\n",
    "\n",
    "Episode 04 Compile and Train (Fit) a Convolutional Neural Network\n",
    "\n",
    "\"\"\""
   ]
  },
  {
   "cell_type": "code",
   "execution_count": null,
   "id": "4a8f77dc",
   "metadata": {},
   "outputs": [],
   "source": [
    "\n",
    "# load the required packages\n",
    "\n",
    "from tensorflow import keras # data and neural network\n",
    "from sklearn.model_selection import train_test_split # data splitting\n",
    "import matplotlib.pyplot as plt # plotting\n",
    "import seaborn as sns # specialised plotting\n",
    "import pandas as pd # handles dataframes\n",
    "import time # track run time"
   ]
  },
  {
   "cell_type": "code",
   "execution_count": null,
   "id": "c602aae0",
   "metadata": {
    "lines_to_next_cell": 1
   },
   "outputs": [],
   "source": [
    "\n",
    "# start timer\n",
    "start = time.time()"
   ]
  },
  {
   "cell_type": "code",
   "execution_count": null,
   "id": "772ccc9c",
   "metadata": {
    "lines_to_next_cell": 1
   },
   "outputs": [],
   "source": [
    "\n",
    "# function to prepare the training dataset\n",
    "\n",
    "def prepare_dataset(train_images, train_labels):\n",
    "    \n",
    "    # normalize the RGB values to be between 0 and 1\n",
    "    train_images = train_images / 255\n",
    "    \n",
    "    # one hot encode the training labels\n",
    "    train_labels = keras.utils.to_categorical(train_labels, len(class_names))\n",
    "    \n",
    "    # split the training data into training and validation set\n",
    "    train_images, val_images, train_labels, val_labels = train_test_split(\n",
    "    train_images, train_labels, test_size = 0.2, random_state=42)\n",
    "\n",
    "    return train_images, val_images, train_labels, val_labels"
   ]
  },
  {
   "cell_type": "code",
   "execution_count": null,
   "id": "4101b317",
   "metadata": {
    "lines_to_next_cell": 1
   },
   "outputs": [],
   "source": [
    "\n",
    "# function to define the introduction model\n",
    "\n",
    "def create_model_intro():\n",
    "    \n",
    "    # CNN Part 1\n",
    "    # Input layer of 32x32 images with three channels (RGB)\n",
    "    inputs_intro = keras.Input(shape=train_images.shape[1:])\n",
    "    \n",
    "    # CNN Part 2\n",
    "    # Convolutional layer with 16 filters, 3x3 kernel size, and ReLU activation\n",
    "    x_intro = keras.layers.Conv2D(filters=16, kernel_size=(3,3), activation='relu')(inputs_intro)\n",
    "    # Pooling layer with input window sized 2x2\n",
    "    x_intro = keras.layers.MaxPooling2D(pool_size=(2,2))(x_intro)\n",
    "    # Second Convolutional layer with 32 filters, 3x3 kernel size, and ReLU activation\n",
    "    x_intro = keras.layers.Conv2D(filters=32, kernel_size=(3,3), activation='relu')(x_intro)\n",
    "    # Second Pooling layer with input window sized 2x2\n",
    "    x_intro = keras.layers.MaxPooling2D(pool_size=(2,2))(x_intro)\n",
    "    # Flatten layer to convert 2D feature maps into a 1D vector\n",
    "    x_intro = keras.layers.Flatten()(x_intro)\n",
    "    # Dense layer with 64 neurons and ReLU activation\n",
    "    x_intro = keras.layers.Dense(units=64, activation='relu')(x_intro)\n",
    "    \n",
    "    # CNN Part 3\n",
    "    # Output layer with 10 units (one for each class) and softmax activation\n",
    "    outputs_intro = keras.layers.Dense(units=10, activation='softmax')(x_intro)\n",
    "    \n",
    "    # create the model\n",
    "    model_intro = keras.Model(inputs = inputs_intro, \n",
    "                              outputs = outputs_intro, \n",
    "                              name = \"cifar_model_intro\")\n",
    "    \n",
    "    return model_intro"
   ]
  },
  {
   "cell_type": "code",
   "execution_count": null,
   "id": "44e53c50",
   "metadata": {},
   "outputs": [],
   "source": [
    "\n",
    "# load the data\n",
    "(train_images, train_labels), (test_images, test_labels) = keras.datasets.cifar10.load_data()\n",
    "\n",
    "# create a list of classnames\n",
    "class_names = ['airplane', 'automobile', 'bird', 'cat', 'deer', 'dog', 'frog', 'horse', 'ship', 'truck']\n",
    "\n",
    "# prepare the dataset for training\n",
    "train_images, val_images, train_labels, val_labels = prepare_dataset(train_images, train_labels)"
   ]
  },
  {
   "cell_type": "code",
   "execution_count": null,
   "id": "f69f2625",
   "metadata": {},
   "outputs": [],
   "source": [
    "\n",
    "# create the introduction model\n",
    "model_intro = create_model_intro()\n",
    "\n",
    "# view model summary\n",
    "model_intro.summary()"
   ]
  },
  {
   "cell_type": "code",
   "execution_count": null,
   "id": "2e51c78c",
   "metadata": {},
   "outputs": [],
   "source": [
    "\n",
    "# ### Step 5. Choose a loss function and optimizer and compile model\n",
    "\n",
    "# ## CHALLENGE Write the code to compile the introductory model\n",
    "\n",
    "# # compile the model\n",
    "# _____.compile(optimizer = _____, \n",
    "#                     loss = _____, \n",
    "#                     metrics = _____)"
   ]
  },
  {
   "cell_type": "code",
   "execution_count": null,
   "id": "00ebd2e7",
   "metadata": {},
   "outputs": [],
   "source": [
    "\n",
    "## SOLUTION\n",
    "\n",
    "# compile the model\n",
    "model_intro.compile(optimizer = keras.optimizers.Adam(),\n",
    "                    loss = keras.losses.CategoricalCrossentropy(),\n",
    "                    metrics = keras.metrics.CategoricalAccuracy())"
   ]
  },
  {
   "cell_type": "code",
   "execution_count": null,
   "id": "8ec87bef",
   "metadata": {},
   "outputs": [],
   "source": [
    "                                    \n",
    "# ### Step 6. Train (Fit) model\n",
    "\n",
    "# ## CHALLENGE Write the code to fit the introductory model\n",
    "\n",
    "# # fit the model\n",
    "# _____ = _____.fit(x = _____, y = _____,\n",
    "#                                 batch_size = _____,\n",
    "#                                 epochs = _____, \n",
    "#                                 validation_data = (_____, _____))"
   ]
  },
  {
   "cell_type": "code",
   "execution_count": null,
   "id": "73ef3122",
   "metadata": {},
   "outputs": [],
   "source": [
    "\n",
    "## SOLUTION\n",
    "\n",
    "# fit the model\n",
    "history_intro = model_intro.fit(x = train_images, y = train_labels,\n",
    "                                batch_size = 32,\n",
    "                                epochs = 10, \n",
    "                                validation_data = (val_images, val_labels))"
   ]
  },
  {
   "cell_type": "code",
   "execution_count": null,
   "id": "82c2f7c1",
   "metadata": {},
   "outputs": [],
   "source": [
    "# save the model\n",
    "model_intro.save('fit_outputs/model_intro.keras')"
   ]
  },
  {
   "cell_type": "code",
   "execution_count": null,
   "id": "bdc2f555",
   "metadata": {
    "lines_to_next_cell": 2
   },
   "outputs": [],
   "source": [
    "\n",
    "# Monitor Training Progress (aka Model Evaluation during Training)\n",
    "\n",
    "# convert the model history to a dataframe for plotting \n",
    "history_intro_df = pd.DataFrame.from_dict(history_intro.history)\n",
    "\n",
    "# plot the loss and accuracy from the training process\n",
    "fig, axes = plt.subplots(1, 2)\n",
    "fig.suptitle('cifar_model_intro')\n",
    "sns.lineplot(ax=axes[0], data=history_intro_df[['loss', 'val_loss']])\n",
    "sns.lineplot(ax=axes[1], data=history_intro_df[['categorical_accuracy', 'val_categorical_accuracy']])"
   ]
  },
  {
   "cell_type": "code",
   "execution_count": null,
   "id": "c9030242",
   "metadata": {},
   "outputs": [],
   "source": [
    "\n",
    "end = time.time()\n",
    "\n",
    "print()\n",
    "print()\n",
    "print(\"Time taken to run program was:\", end - start, \"seconds\")"
   ]
  }
 ],
 "metadata": {
  "jupytext": {
   "cell_metadata_filter": "-all",
   "encoding": "# -*- coding: utf-8 -*-",
   "main_language": "python",
   "notebook_metadata_filter": "-all"
  }
 },
 "nbformat": 4,
 "nbformat_minor": 5
}
