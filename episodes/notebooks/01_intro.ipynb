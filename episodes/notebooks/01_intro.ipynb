{
 "cells": [
  {
   "cell_type": "code",
   "execution_count": null,
   "id": "57cc5c4e",
   "metadata": {},
   "outputs": [],
   "source": [
    "\"\"\"\n",
    "Image Classification with Convolutional Neural Networks\n",
    "\n",
    "Episode 01 Introduction to Deep Learning\n",
    "\n",
    "\"\"\""
   ]
  },
  {
   "cell_type": "code",
   "execution_count": null,
   "id": "7563071d",
   "metadata": {
    "lines_to_next_cell": 1
   },
   "outputs": [],
   "source": [
    "\n",
    "# load the required packages\n",
    "\n",
    "from tensorflow import keras # data and neural network\n",
    "from sklearn.model_selection import train_test_split # data splitting\n",
    "import matplotlib.pyplot as plt # plotting"
   ]
  },
  {
   "cell_type": "code",
   "execution_count": null,
   "id": "b1930dd8",
   "metadata": {
    "lines_to_next_cell": 1
   },
   "outputs": [],
   "source": [
    "\n",
    "# create a function to prepare the dataset\n",
    "\n",
    "def prepare_dataset(train_images, train_labels):\n",
    "    \n",
    "    # normalize the RGB values to be between 0 and 1\n",
    "    train_images = train_images / 255.0\n",
    "    \n",
    "    # one hot encode the training labels\n",
    "    train_labels = keras.utils.to_categorical(train_labels, len(class_names))\n",
    "    \n",
    "    # split the training data into training and validation set\n",
    "    train_images, val_images, train_labels, val_labels = train_test_split(\n",
    "    train_images, train_labels, test_size = 0.2, random_state=42)\n",
    "\n",
    "    return train_images, val_images, train_labels, val_labels"
   ]
  },
  {
   "cell_type": "code",
   "execution_count": null,
   "id": "705b234e",
   "metadata": {},
   "outputs": [],
   "source": [
    "\n",
    "# load the data\n",
    "(train_images, train_labels), (test_images, test_labels) = keras.datasets.cifar10.load_data()\n",
    "\n",
    "# create a list of class names associated with each CIFAR-10 label\n",
    "class_names = ['airplane', 'automobile', 'bird', 'cat', 'deer', 'dog', 'frog', 'horse', 'ship', 'truck']\n",
    "\n",
    "### Step 3. Prepare data\n",
    "\n",
    "# prepare the dataset for training\n",
    "train_images, val_images, train_labels, val_labels = prepare_dataset(train_images, train_labels)"
   ]
  },
  {
   "cell_type": "code",
   "execution_count": null,
   "id": "604a9bfe",
   "metadata": {},
   "outputs": [],
   "source": [
    "\n",
    "# CHALLENGE EXAMINE THE CIFAR-10 DATASET\n",
    "\n",
    "print('Train: Images=%s, Labels=%s' % (train_images.shape, train_labels.shape))\n",
    "print('Validate: Images=%s, Labels=%s' % (val_images.shape, val_labels.shape))\n",
    "print('Test: Images=%s, Labels=%s' % (test_images.shape, test_labels.shape))"
   ]
  },
  {
   "cell_type": "code",
   "execution_count": null,
   "id": "634e524b",
   "metadata": {
    "lines_to_next_cell": 1
   },
   "outputs": [],
   "source": [
    "\n",
    "#### Visualise a subset of the CIFAR-10 dataset\n",
    "\n",
    "# set up plot region, including width, height in inches\n",
    "fig, axes = plt.subplots(nrows=5, ncols=5, figsize=(10,10))\n",
    "\n",
    "# add images to plot\n",
    "for i,ax in enumerate(axes.flat):\n",
    "    ax.imshow(train_images[i])\n",
    "    ax.axis('off')\n",
    "    ax.set_title(class_names[train_labels[i,].argmax()])\n",
    "    \n",
    "# view plot\n",
    "plt.show() "
   ]
  },
  {
   "cell_type": "code",
   "execution_count": null,
   "id": "1c5e2e3b",
   "metadata": {},
   "outputs": [],
   "source": [
    "\n",
    "### Step 4. Build a new architecture from scratch\n",
    "\n",
    "# create a function that defines a convolutional neural network\n",
    "\n",
    "def create_model_intro():\n",
    "    \n",
    "    # CNN Part 1\n",
    "    # Input layer of 32x32 images with three channels (RGB)\n",
    "    inputs_intro = keras.Input(shape=train_images.shape[1:])\n",
    "    \n",
    "    # CNN Part 2\n",
    "    # Convolutional layer with 16 filters, 3x3 kernel size, and ReLU activation\n",
    "    x_intro = keras.layers.Conv2D(filters=16, kernel_size=(3,3), activation='relu')(inputs_intro)\n",
    "    # Pooling layer with input window sized 2x2\n",
    "    x_intro = keras.layers.MaxPooling2D(pool_size=(2,2))(x_intro)\n",
    "    # Second Convolutional layer with 32 filters, 3x3 kernel size, and ReLU activation\n",
    "    x_intro = keras.layers.Conv2D(filters=32, kernel_size=(3,3), activation='relu')(x_intro)\n",
    "    # Second Pooling layer with input window sized 2x2\n",
    "    x_intro = keras.layers.MaxPooling2D(pool_size=(2,2))(x_intro)\n",
    "    # Flatten layer to convert 2D feature maps into a 1D vector\n",
    "    x_intro = keras.layers.Flatten()(x_intro)\n",
    "    # Dense layer with 64 neurons and ReLU activation\n",
    "    x_intro = keras.layers.Dense(units=64, activation='relu')(x_intro)\n",
    "    \n",
    "    # CNN Part 3\n",
    "    # Output layer with 10 units (one for each class) and softmax activation\n",
    "    outputs_intro = keras.layers.Dense(units=10, activation='softmax')(x_intro)\n",
    "    \n",
    "    # create the model\n",
    "    model_intro = keras.Model(inputs = inputs_intro, \n",
    "                              outputs = outputs_intro, \n",
    "                              name = \"cifar_model_intro\")\n",
    "    \n",
    "    return model_intro"
   ]
  },
  {
   "cell_type": "code",
   "execution_count": null,
   "id": "62a8531e",
   "metadata": {},
   "outputs": [],
   "source": [
    "\n",
    "# create the introduction model\n",
    "model_intro = create_model_intro()\n",
    "\n",
    "# view model summary\n",
    "model_intro.summary()"
   ]
  },
  {
   "cell_type": "code",
   "execution_count": null,
   "id": "62df3424",
   "metadata": {},
   "outputs": [],
   "source": [
    "\n",
    "### Step 5. Choose a loss function and optimizer and compile model\n",
    "\n",
    "# compile model\n",
    "model_intro.compile(optimizer = keras.optimizers.Adam(),\n",
    "                    loss = keras.losses.CategoricalCrossentropy(),\n",
    "                    metrics = keras.metrics.CategoricalAccuracy())"
   ]
  },
  {
   "cell_type": "code",
   "execution_count": null,
   "id": "5f341b86",
   "metadata": {},
   "outputs": [],
   "source": [
    "\n",
    "### Step 6. Train the model\n",
    "\n",
    "# fit model\n",
    "history_intro = model_intro.fit(x = train_images, y = train_labels,\n",
    "                                batch_size = 32,\n",
    "                                epochs = 10, \n",
    "                                validation_data = (val_images, val_labels))"
   ]
  },
  {
   "cell_type": "code",
   "execution_count": null,
   "id": "5f216ec3",
   "metadata": {},
   "outputs": [],
   "source": [
    "\n",
    "### Step 7. Perform a Prediction/Classification\n",
    "\n",
    "# normalize test dataset RGB values to be between 0 and 1\n",
    "test_images = test_images / 255.0\n",
    "    \n",
    "# make prediction for the first test image\n",
    "result_intro = model_intro.predict(test_images[0].reshape(1,32,32,3))\n",
    "print(result_intro)\n",
    "\n",
    "# extract class with highest probability\n",
    "print(class_names[result_intro.argmax()])"
   ]
  },
  {
   "cell_type": "code",
   "execution_count": null,
   "id": "c0e2c9e9",
   "metadata": {},
   "outputs": [],
   "source": [
    "\n",
    "# plot the first test image with its true label\n",
    "\n",
    "# create a plot\n",
    "plt.figure()\n",
    "\n",
    "# display image\n",
    "plt.imshow(test_images[0])\n",
    "plt.title('True class:' + class_names[result_intro.argmax()])\n",
    "\n",
    "# view plot\n",
    "plt.show() "
   ]
  },
  {
   "cell_type": "code",
   "execution_count": null,
   "id": "328b4c2f",
   "metadata": {
    "lines_to_next_cell": 2
   },
   "outputs": [],
   "source": [
    "\n",
    "### Step 10. Share Model\n",
    "\n",
    "# save model\n",
    "model_intro.save('fit_outputs/model_intro.keras')\n",
    "\n",
    "\n",
    "\n",
    "\n",
    "\n",
    "\n",
    "\n"
   ]
  }
 ],
 "metadata": {
  "jupytext": {
   "cell_metadata_filter": "-all",
   "encoding": "# -*- coding: utf-8 -*-",
   "main_language": "python",
   "notebook_metadata_filter": "-all"
  }
 },
 "nbformat": 4,
 "nbformat_minor": 5
}
